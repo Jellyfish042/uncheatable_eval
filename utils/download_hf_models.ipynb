{
 "cells": [
  {
   "cell_type": "code",
   "execution_count": null,
   "outputs": [],
   "source": [
    "model_names = [\n",
    "    'BlinkDL/rwkv-6-world/RWKV-x060-World-1B6-v2-20240208-ctx4096.pth',\n",
    "    # 'BlinkDL/rwkv-6-world/RWKV-x060-World-1B6-v2.1-20240328-ctx4096.pth',\n",
    "    # 'BlinkDL/rwkv-5-world/RWKV-5-World-1B5-v2-20231025-ctx4096.pth',\n",
    "    # 'stabilityai/stablelm-2-1_6b',  # pip install accelerate tiktoken\n",
    "    # '42dot/42dot_LLM-PLM-1.3B',\n",
    "    # 'h2oai/h2o-danube-1.8b-base',\n",
    "    # 'TinyLlama/TinyLlama-1.1B-intermediate-step-1431k-3T',\n",
    "    # 'EleutherAI/pythia-1.4b-v0',\n",
    "    # 'bigscience/bloom-1b7',\n",
    "    # 'BlinkDL/rwkv-4-pile-1b5/RWKV-4-Pile-1B5-20220903-8040.pth',\n",
    "    # 'BlinkDL/rwkv-4-world/RWKV-4-World-1.5B-v1-fixed-20230612-ctx4096.pth',\n",
    "    # '42dot/42dot_LLM-SFT-1.3B',\n",
    "    # 'allenai/OLMo-1B',  # pip install ai2-olmo\n",
    "    # 'Qwen/Qwen1.5-1.8B',\n",
    "    # 'Qwen/Qwen-1_8B',  # pip install transformers_stream_generator einops\n",
    "    # 'mosaicml/mpt-1b-redpajama-200b',\n",
    "    # 'princeton-nlp/Sheared-LLaMA-1.3B',\n",
    "    # 'tiiuae/falcon-rw-1b',\n",
    "    # 'bigscience/bloomz-1b7',\n",
    "    # 'OpenNLPLab/TransNormerLLM-1B',  # pip install sentencepiece\n",
    "    # 'microsoft/phi-1_5',\n",
    "    # 'state-spaces/mamba-1.4b-hf',\n",
    "]\n",
    "\n",
    "cache_dir = './models/temp/'"
   ],
   "metadata": {
    "collapsed": false
   }
  },
  {
   "cell_type": "code",
   "execution_count": null,
   "outputs": [],
   "source": [
    "from transformers import AutoTokenizer, AutoModelForCausalLM\n",
    "from huggingface_hub import hf_hub_download\n",
    "import torch\n",
    "import gc\n",
    "import traceback\n",
    "\n",
    "\n",
    "for path in model_names:\n",
    "    for _ in range(5):\n",
    "        print(f'downloading {path}')\n",
    "        try:\n",
    "            if 'BlinkDL/rwkv' in path:\n",
    "\n",
    "                repo_name = '/'.join(path.split('/', 2)[:-1])\n",
    "                filename = path.split('/', 2)[-1]\n",
    "\n",
    "                hf_hub_download(repo_id=repo_name,\n",
    "                                filename=filename,\n",
    "                                local_dir=cache_dir,\n",
    "                                cache_dir=cache_dir)\n",
    "\n",
    "                break\n",
    "            else:\n",
    "                tokenizer = AutoTokenizer.from_pretrained(path, cache_dir=cache_dir)\n",
    "                model = AutoModelForCausalLM.from_pretrained(path,\n",
    "                                                             device_map=\"cpu\",\n",
    "                                                             trust_remote_code=True,\n",
    "                                                             cache_dir=cache_dir).eval()\n",
    "\n",
    "                del model, tokenizer\n",
    "\n",
    "                gc.collect()\n",
    "                torch.cuda.empty_cache()\n",
    "                break\n",
    "\n",
    "        except Exception as e:\n",
    "            print(f'{path} failed')\n",
    "            traceback.print_exc()"
   ],
   "metadata": {
    "collapsed": false
   }
  }
 ],
 "metadata": {
  "kernelspec": {
   "display_name": "Python 3",
   "language": "python",
   "name": "python3"
  },
  "language_info": {
   "codemirror_mode": {
    "name": "ipython",
    "version": 2
   },
   "file_extension": ".py",
   "mimetype": "text/x-python",
   "name": "python",
   "nbconvert_exporter": "python",
   "pygments_lexer": "ipython2",
   "version": "2.7.6"
  }
 },
 "nbformat": 4,
 "nbformat_minor": 0
}
