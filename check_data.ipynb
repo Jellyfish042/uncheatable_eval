{
 "cells": [
  {
   "cell_type": "code",
   "execution_count": null,
   "outputs": [],
   "source": [
    "import os\n",
    "import json\n",
    "\n",
    "folder_path = 'data'\n",
    "\n",
    "for file_name in os.listdir(folder_path):\n",
    "    if file_name.endswith('.json'):\n",
    "        file_path = os.path.join(folder_path, file_name)\n",
    "        with open(file_path, 'r', encoding='utf-8') as file:\n",
    "            data = json.load(file)\n",
    "            char_num = sum(len(item) for item in data)\n",
    "            avg_char_num = char_num / len(data)\n",
    "\n",
    "        print(f\"File: {file_path}\")\n",
    "        print(f\"Length of data: {len(data)}\")\n",
    "        print(f\"Total characters: {char_num}\")\n",
    "        print(f\"Average characters: {avg_char_num}\")\n",
    "        print(\"=\" * 40)"
   ],
   "metadata": {
    "collapsed": false
   }
  },
  {
   "cell_type": "code",
   "execution_count": null,
   "metadata": {
    "collapsed": true
   },
   "outputs": [],
   "source": [
    "import json\n",
    "\n",
    "def print_string_lengths(json_file_path, n):\n",
    "    try:\n",
    "        with open(json_file_path, 'r', encoding='utf-8') as file:\n",
    "            data = json.load(file)\n",
    "            if isinstance(data, list):\n",
    "                for item in data[:n]:\n",
    "                    if isinstance(item, str):\n",
    "                        print('=' * 100)\n",
    "                        print(f'Index: {data.index(item)}\\n')\n",
    "                        print(f\"{item}\\n\\nLength: {len(item)}\")\n",
    "                    else:\n",
    "                        print(f\"Item is not a string: {item}\")\n",
    "            else:\n",
    "                print(\"The JSON file does not contain a list.\")\n",
    "    except FileNotFoundError:\n",
    "        print(f\"The file {json_file_path} does not exist.\")\n",
    "    except json.JSONDecodeError:\n",
    "        print(\"Failed to decode JSON from the file.\")\n",
    "\n",
    "json_file_path = 'data/arxiv_physics_20240501to20240515.json'\n",
    "print_string_lengths(json_file_path, 10)\n"
   ]
  },
  {
   "cell_type": "code",
   "execution_count": null,
   "outputs": [],
   "source": [],
   "metadata": {
    "collapsed": false
   }
  }
 ],
 "metadata": {
  "kernelspec": {
   "display_name": "Python 3",
   "language": "python",
   "name": "python3"
  },
  "language_info": {
   "codemirror_mode": {
    "name": "ipython",
    "version": 2
   },
   "file_extension": ".py",
   "mimetype": "text/x-python",
   "name": "python",
   "nbconvert_exporter": "python",
   "pygments_lexer": "ipython2",
   "version": "2.7.6"
  }
 },
 "nbformat": 4,
 "nbformat_minor": 0
}
