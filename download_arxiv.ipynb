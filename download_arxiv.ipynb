{
 "cells": [
  {
   "cell_type": "code",
   "execution_count": 1,
   "id": "1d82a9fb",
   "metadata": {},
   "outputs": [],
   "source": [
    "from bs4 import BeautifulSoup\n",
    "import requests\n",
    "import os\n",
    "from tqdm.notebook import tqdm\n",
    "from PyPDF2 import PdfReader\n",
    "import requests\n",
    "from requests.exceptions import RequestException\n",
    "from concurrent.futures import ThreadPoolExecutor, as_completed\n",
    "from tqdm.notebook import tqdm\n",
    "import time\n",
    "import threading\n",
    "import json"
   ]
  },
  {
   "cell_type": "code",
   "execution_count": 2,
   "id": "c87957ae",
   "metadata": {},
   "outputs": [],
   "source": [
    "BEGIN_DATE = '2024-1-22'\n",
    "END_DATE = '2024-1-29'\n",
    "PAGE_SIZE = '100'\n",
    "START = '0'\n",
    "PAGE_NUM = 11\n",
    "TYPE = '&classification-computer_science=y'\n",
    "# TYPE = '&classification-mathematics=y'\n",
    "# TYPE = '&classification-physics=y'\n",
    "# TYPE = '&classification-economics=y'\n",
    "\n",
    "PATH = 'arxiv_pdfs_cs_24_1'\n",
    "json_save_path = \"./arxiv_pdfs_cs_24_1_2000_to_7000.json\"\n",
    "\n",
    "max_sample = 1000\n",
    "begin = 2000\n",
    "end = 7000\n",
    "pad = 1000"
   ]
  },
  {
   "cell_type": "code",
   "execution_count": 3,
   "id": "b77d3d46",
   "metadata": {
    "scrolled": true
   },
   "outputs": [
    {
     "name": "stdout",
     "output_type": "stream",
     "text": [
      "url:https://arxiv.org/search/advanced?advanced=1&terms-0-operator=AND&terms-0-term=&terms-0-field=title&classification-physics=y&classification-include_cross_list=exclude&date-year=&date-filter_by=date_range&date-from_date=2024-1-22&date-to_date=2024-1-29&date-date_type=submitted_date_first&abstracts=hide&size=100&order=-announced_date_first&start=0\n",
      "start:0 success:100\n",
      "total:100\n"
     ]
    }
   ],
   "source": [
    "path_list = []\n",
    "\n",
    "for START in [str(i * int(PAGE_SIZE)) for i in range(PAGE_NUM)]:\n",
    "    \n",
    "    url = f'https://arxiv.org/search/advanced?advanced=1&terms-0-operator=AND&terms-0-term=&terms-0-field=title{TYPE}&classification-include_cross_list=exclude&date-year=&date-filter_by=date_range&date-from_date={BEGIN_DATE}&date-to_date={END_DATE}&date-date_type=submitted_date_first&abstracts=hide&size={PAGE_SIZE}&order=-announced_date_first&start={START}'\n",
    "    print(f'url:{url}')\n",
    "\n",
    "    response = requests.get(url)\n",
    "    soup = BeautifulSoup(response.content, 'html.parser')\n",
    "    papers = soup.find_all('li', class_='arxiv-result')\n",
    "\n",
    "    pdf_links = [paper.find('a', string='pdf')['href'] for paper in papers if paper.find('a', string='pdf')]\n",
    "\n",
    "    print(f\"start:{START} success:{len(pdf_links)}\")\n",
    "    \n",
    "    path_list += pdf_links\n",
    "    \n",
    "    if len(pdf_links) == 0:\n",
    "        break\n",
    "\n",
    "print(f'total:{len(path_list)}')"
   ]
  },
  {
   "cell_type": "code",
   "execution_count": 4,
   "id": "eb74ef52",
   "metadata": {},
   "outputs": [
    {
     "data": {
      "application/vnd.jupyter.widget-view+json": {
       "model_id": "2932f9217db246909669748ed86e7a55",
       "version_major": 2,
       "version_minor": 0
      },
      "text/plain": [
       "downloading:   0%|          | 0/100 [00:00<?, ?it/s]"
      ]
     },
     "metadata": {},
     "output_type": "display_data"
    }
   ],
   "source": [
    "def download_pdf(pdf_url, path, total_size, max_retries=3, timeout=10, update_progress=None):\n",
    "    pdf_name = pdf_url.split('/')[-1]\n",
    "    file_path = os.path.join(path, f'{pdf_name}.pdf')\n",
    "\n",
    "    attempts = 0\n",
    "    while attempts < max_retries:\n",
    "        try:\n",
    "            with requests.get(pdf_url, stream=True, timeout=timeout) as r:\n",
    "                r.raise_for_status()\n",
    "                with open(file_path, 'wb') as f:\n",
    "                    for chunk in r.iter_content(chunk_size=8192):\n",
    "                        f.write(chunk)\n",
    "            if update_progress:\n",
    "                update_progress()\n",
    "            return True\n",
    "        except RequestException as e:\n",
    "            attempts += 1\n",
    "            time.sleep(1)\n",
    "            if attempts == max_retries:\n",
    "                if update_progress:\n",
    "                    update_progress()\n",
    "                return False\n",
    "\n",
    "def progress_monitor(total_tasks):\n",
    "    progress = tqdm(total=total_tasks, desc=\"downloading\", leave=True)\n",
    "    while not progress_monitor.finished:\n",
    "        progress.n = progress_monitor.completed_tasks\n",
    "        progress.refresh()\n",
    "        time.sleep(0.5)\n",
    "    progress.n = progress_monitor.completed_tasks\n",
    "    progress.refresh()\n",
    "    progress.close()\n",
    "\n",
    "def download_pdfs_concurrently(pdf_links, path, num_threads=10):\n",
    "    os.makedirs(path, exist_ok=True)\n",
    "    progress_monitor.completed_tasks = 0\n",
    "    progress_monitor.finished = False\n",
    "\n",
    "    def update_progress():\n",
    "        progress_monitor.completed_tasks += 1\n",
    "\n",
    "    with ThreadPoolExecutor(max_workers=num_threads) as executor:\n",
    "        futures = [executor.submit(download_pdf, url, path, 0, update_progress=update_progress) for url in pdf_links]\n",
    "        \n",
    "        monitor_thread = threading.Thread(target=progress_monitor, args=(len(pdf_links),))\n",
    "        monitor_thread.start()\n",
    "\n",
    "        for future in as_completed(futures):\n",
    "            pass\n",
    "\n",
    "    progress_monitor.finished = True\n",
    "    monitor_thread.join()\n",
    "    \n",
    "\n",
    "download_pdfs_concurrently(path_list, PATH)\n"
   ]
  },
  {
   "cell_type": "code",
   "execution_count": 5,
   "id": "3bb08aae",
   "metadata": {},
   "outputs": [
    {
     "data": {
      "application/vnd.jupyter.widget-view+json": {
       "model_id": "4ae2072f88174232a1b5eabe11fc18e6",
       "version_major": 2,
       "version_minor": 0
      },
      "text/plain": [
       "  0%|          | 0/1100 [00:00<?, ?it/s]"
      ]
     },
     "metadata": {},
     "output_type": "display_data"
    },
    {
     "name": "stdout",
     "output_type": "stream",
     "text": [
      "Error reading 2401.12577.pdf: EOF marker not found\n"
     ]
    },
    {
     "name": "stderr",
     "output_type": "stream",
     "text": [
      " impossible to decode XFormObject /Im2\n"
     ]
    },
    {
     "name": "stdout",
     "output_type": "stream",
     "text": [
      "Error reading 2401.13648.pdf: invalid literal for int() with base 16: b'\\t'\n"
     ]
    },
    {
     "name": "stderr",
     "output_type": "stream",
     "text": [
      "Illegal character in Name Object (b'/PPTJKZ+K\\xeb\\xa3\\xa8\\xed\\xb1\\x95')\n"
     ]
    },
    {
     "name": "stdout",
     "output_type": "stream",
     "text": [
      "Error reading 2401.15180.pdf: Invalid Elementary Object starting with b'@' @3: b' 0 1 -72 720 cm\\nobj @pgfcolorspaces <<>>\\nput @resources << /ColorSpace @pgfcolor'\n",
      "1000\n"
     ]
    }
   ],
   "source": [
    "# Processing data\n",
    "def extract_first_n_chars_from_pdfs(folder_path, n):\n",
    "    extracted_texts = []\n",
    "    for filename in tqdm(os.listdir(folder_path)):\n",
    "        if filename.endswith('.pdf'):\n",
    "            file_path = os.path.join(folder_path, filename)\n",
    "            try:\n",
    "                with open(file_path, 'rb') as file:\n",
    "                    reader = PdfReader(file)\n",
    "                    text = \"\"\n",
    "                    for page in reader.pages:\n",
    "                        page_text = page.extract_text()\n",
    "                        if page_text:\n",
    "                            text += page_text\n",
    "                            if len(text) >= n:\n",
    "                                break\n",
    "                    extracted_texts.append(text[:n])\n",
    "            except Exception as e:\n",
    "                print(f\"Error reading {filename}: {e}\")\n",
    "    return extracted_texts\n",
    "\n",
    "\n",
    "def save_list_as_json(file_path, string_list):\n",
    "    \"\"\"\n",
    "    Saves a list of strings as a JSON file.\n",
    "\n",
    "    :param file_path: Path where the JSON file will be saved.\n",
    "    :param string_list: List of strings to be saved in the JSON file.\n",
    "    \"\"\"\n",
    "    with open(file_path, 'w', encoding='utf-8') as file:\n",
    "        json.dump(string_list, file, ensure_ascii=False, indent=4)\n",
    "\n",
    "        \n",
    "assert begin < end\n",
    "\n",
    "extracted_texts = extract_first_n_chars_from_pdfs(PATH, begin + end + pad)\n",
    "\n",
    "extracted_texts = [text.encode('utf-8', 'ignore').decode('utf-8') for text in extracted_texts]\n",
    "\n",
    "extracted_texts = [x.replace('\\n', '') for x in extracted_texts]\n",
    "\n",
    "extracted_texts = [x[begin: end] for x in extracted_texts]\n",
    "\n",
    "extracted_texts = [x for x in extracted_texts if len(x) > 50]\n",
    "\n",
    "extracted_texts = extracted_texts[:max_sample]\n",
    "\n",
    "print(len(extracted_texts))\n",
    "# print([len(x) for x in extracted_texts])\n",
    "\n",
    "# Save as a JSON file for faster loading in the future if needed.\n",
    "save_list_as_json(json_save_path, extracted_texts)\n"
   ]
  },
  {
   "cell_type": "code",
   "execution_count": null,
   "id": "a3069d66",
   "metadata": {},
   "outputs": [],
   "source": []
  }
 ],
 "metadata": {
  "kernelspec": {
   "display_name": "Python 3 (ipykernel)",
   "language": "python",
   "name": "python3"
  },
  "language_info": {
   "codemirror_mode": {
    "name": "ipython",
    "version": 3
   },
   "file_extension": ".py",
   "mimetype": "text/x-python",
   "name": "python",
   "nbconvert_exporter": "python",
   "pygments_lexer": "ipython3",
   "version": "3.10.11"
  },
  "varInspector": {
   "cols": {
    "lenName": 16,
    "lenType": 16,
    "lenVar": 40
   },
   "kernels_config": {
    "python": {
     "delete_cmd_postfix": "",
     "delete_cmd_prefix": "del ",
     "library": "var_list.py",
     "varRefreshCmd": "print(var_dic_list())"
    },
    "r": {
     "delete_cmd_postfix": ") ",
     "delete_cmd_prefix": "rm(",
     "library": "var_list.r",
     "varRefreshCmd": "cat(var_dic_list()) "
    }
   },
   "types_to_exclude": [
    "module",
    "function",
    "builtin_function_or_method",
    "instance",
    "_Feature"
   ],
   "window_display": false
  }
 },
 "nbformat": 4,
 "nbformat_minor": 5
}
